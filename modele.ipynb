{
  "nbformat": 4,
  "nbformat_minor": 0,
  "metadata": {
    "colab": {
      "provenance": []
    },
    "kernelspec": {
      "name": "python3",
      "display_name": "Python 3"
    },
    "language_info": {
      "name": "python"
    }
  },
  "cells": [
    {
      "cell_type": "code",
      "execution_count": 1,
      "metadata": {
        "colab": {
          "base_uri": "https://localhost:8080/"
        },
        "id": "9YDJdDDiiVA5",
        "outputId": "69a03b0f-f9c4-44d2-dae9-2bf799434ad2"
      },
      "outputs": [
        {
          "output_type": "stream",
          "name": "stdout",
          "text": [
            "Mounted at /content/drive\n"
          ]
        }
      ],
      "source": [
        "from google.colab import drive\n",
        "drive.mount('/content/drive')"
      ]
    },
    {
      "cell_type": "code",
      "source": [
        "chaines = [\"IR007\", \"IR014\", \"IR021\", \"0R007@6\"]\n",
        "\n",
        "\n"
      ],
      "metadata": {
        "id": "rd-DY6s5i6-q"
      },
      "execution_count": 3,
      "outputs": []
    },
    {
      "cell_type": "code",
      "source": [
        "import tensorflow as tf\n",
        "from tensorflow.keras import layers, models\n",
        "from tensorflow.keras.preprocessing.image import ImageDataGenerator\n"
      ],
      "metadata": {
        "id": "-outkRoQkjt3"
      },
      "execution_count": 4,
      "outputs": []
    },
    {
      "cell_type": "code",
      "source": [
        "chemin_base = \"/content/drive/MyDrive/realisation/class{i}/{b}.{j}(ba)\"\n",
        "compteur_i = range(1, 5)\n",
        "compteur_j = range(4)"
      ],
      "metadata": {
        "id": "w6Asnb23kmrs"
      },
      "execution_count": 5,
      "outputs": []
    },
    {
      "cell_type": "code",
      "source": [
        "import os\n",
        "import numpy as np\n",
        "import tensorflow as tf\n",
        "from tensorflow.keras.preprocessing.image import img_to_array, load_img\n",
        "from sklearn.model_selection import train_test_split\n",
        "\n",
        "# Définition des chemins de base et des compteurs\n",
        "chemin_base = \"/content/drive/MyDrive/realisation/class{i}/{b}.{j}(ba)/image/\"\n",
        "compteurs_i = [1]\n",
        "chaines_b = [\"IR007\"]\n",
        "compteur_j = range(4)\n",
        "\n",
        "# Liste pour stocker les chemins d'accès aux images et les étiquettes\n",
        "image_paths = []\n",
        "labels = []\n",
        "\n",
        "# Parcourir les dossiers et collecter les chemins d'accès aux images et les étiquettes\n",
        "for i in compteurs_i:\n",
        "    b = chaines_b[compteurs_i.index(i)]  # Correspondance entre i et b\n",
        "    for j in compteur_j:\n",
        "        chemin_dossier = chemin_base.format(i=i, b=b, j=j)\n",
        "        for filename in os.listdir(chemin_dossier):\n",
        "            if filename.endswith('.png'):\n",
        "                image_path = os.path.join(chemin_dossier, filename)\n",
        "                image_paths.append(image_path)\n",
        "                labels.append(compteurs_i.index(i))  # Utiliser l'index de i comme étiquette\n",
        "\n",
        "# Charger les images et les étiquettes à partir des chemins d'accès collectés\n",
        "images = []\n",
        "for image_path in image_paths:\n",
        "    image = load_img(image_path, target_size=(64, 64))\n",
        "    image = img_to_array(image)\n",
        "    image = image / 255.0  # Normaliser les valeurs des pixels entre 0 et 1\n",
        "    images.append(image)\n",
        "\n",
        "# Convertir les listes en tableaux numpy\n",
        "images = np.array(images)\n",
        "labels = np.array(labels)\n",
        "\n",
        "# Séparer les données en ensembles d'entraînement et de validation\n",
        "train_images, val_images, train_labels, val_labels = train_test_split(images, labels, test_size=0.2, random_state=42)\n",
        "\n",
        "# Construire le modèle CNN\n",
        "model = tf.keras.models.Sequential([\n",
        "    tf.keras.layers.Conv2D(32, (3, 3), activation='relu', input_shape=(64, 64, 3)),\n",
        "    tf.keras.layers.MaxPooling2D((2, 2)),\n",
        "    tf.keras.layers.Conv2D(64, (3, 3), activation='relu'),\n",
        "    tf.keras.layers.MaxPooling2D((2, 2)),\n",
        "    tf.keras.layers.Conv2D(64, (3, 3), activation='relu'),\n",
        "    tf.keras.layers.Flatten(),\n",
        "    tf.keras.layers.Dense(64, activation='relu'),\n",
        "    tf.keras.layers.Dense(4, activation='softmax')  # 4 classes pour les valeurs de i de 1 à 4\n",
        "])\n",
        "\n",
        "# Compiler le modèle\n",
        "model.compile(optimizer='adam',\n",
        "              loss='sparse_categorical_crossentropy',\n",
        "              metrics=['accuracy'])\n",
        "\n",
        "# Entraîner le modèle\n",
        "history = model.fit(train_images, train_labels, epochs=10, validation_data=(val_images, val_labels))\n"
      ],
      "metadata": {
        "colab": {
          "base_uri": "https://localhost:8080/"
        },
        "id": "tQT31rmVkxLA",
        "outputId": "2faa1568-64e5-47a5-b322-359440ffece4"
      },
      "execution_count": 12,
      "outputs": [
        {
          "output_type": "stream",
          "name": "stdout",
          "text": [
            "Epoch 1/10\n",
            "6/6 [==============================] - 3s 233ms/step - loss: 0.3337 - accuracy: 0.8333 - val_loss: 0.0000e+00 - val_accuracy: 1.0000\n",
            "Epoch 2/10\n",
            "6/6 [==============================] - 2s 312ms/step - loss: 0.0000e+00 - accuracy: 1.0000 - val_loss: 0.0000e+00 - val_accuracy: 1.0000\n",
            "Epoch 3/10\n",
            "6/6 [==============================] - 2s 309ms/step - loss: 0.0000e+00 - accuracy: 1.0000 - val_loss: 0.0000e+00 - val_accuracy: 1.0000\n",
            "Epoch 4/10\n",
            "6/6 [==============================] - 2s 257ms/step - loss: 0.0000e+00 - accuracy: 1.0000 - val_loss: 0.0000e+00 - val_accuracy: 1.0000\n",
            "Epoch 5/10\n",
            "6/6 [==============================] - 1s 188ms/step - loss: 0.0000e+00 - accuracy: 1.0000 - val_loss: 0.0000e+00 - val_accuracy: 1.0000\n",
            "Epoch 6/10\n",
            "6/6 [==============================] - 1s 191ms/step - loss: 0.0000e+00 - accuracy: 1.0000 - val_loss: 0.0000e+00 - val_accuracy: 1.0000\n",
            "Epoch 7/10\n",
            "6/6 [==============================] - 1s 187ms/step - loss: 0.0000e+00 - accuracy: 1.0000 - val_loss: 0.0000e+00 - val_accuracy: 1.0000\n",
            "Epoch 8/10\n",
            "6/6 [==============================] - 1s 201ms/step - loss: 0.0000e+00 - accuracy: 1.0000 - val_loss: 0.0000e+00 - val_accuracy: 1.0000\n",
            "Epoch 9/10\n",
            "6/6 [==============================] - 1s 200ms/step - loss: 0.0000e+00 - accuracy: 1.0000 - val_loss: 0.0000e+00 - val_accuracy: 1.0000\n",
            "Epoch 10/10\n",
            "6/6 [==============================] - 1s 191ms/step - loss: 0.0000e+00 - accuracy: 1.0000 - val_loss: 0.0000e+00 - val_accuracy: 1.0000\n"
          ]
        }
      ]
    },
    {
      "cell_type": "code",
      "source": [
        "print(\"Détails de l'entraînement du modèle :\")\n",
        "print(\"Accuracy d'entraînement :\", history.history['accuracy'])\n",
        "print(\"Loss d'entraînement :\", history.history['loss'])\n",
        "print(\"Accuracy de validation :\", history.history['val_accuracy'])\n",
        "print(\"Loss de validation :\", history.history['val_loss'])"
      ],
      "metadata": {
        "colab": {
          "base_uri": "https://localhost:8080/"
        },
        "id": "rlSU9SvBn-wY",
        "outputId": "012e159a-7f34-4275-c953-406aaf700c8a"
      },
      "execution_count": 14,
      "outputs": [
        {
          "output_type": "stream",
          "name": "stdout",
          "text": [
            "Détails de l'entraînement du modèle :\n",
            "Accuracy d'entraînement : [0.8333333134651184, 1.0, 1.0, 1.0, 1.0, 1.0, 1.0, 1.0, 1.0, 1.0]\n",
            "Loss d'entraînement : [0.33366477489471436, 0.0, 0.0, 0.0, 0.0, 0.0, 0.0, 0.0, 0.0, 0.0]\n",
            "Accuracy de validation : [1.0, 1.0, 1.0, 1.0, 1.0, 1.0, 1.0, 1.0, 1.0, 1.0]\n",
            "Loss de validation : [0.0, 0.0, 0.0, 0.0, 0.0, 0.0, 0.0, 0.0, 0.0, 0.0]\n"
          ]
        }
      ]
    }
  ]
}