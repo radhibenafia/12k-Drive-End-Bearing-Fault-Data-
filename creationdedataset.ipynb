{
  "nbformat": 4,
  "nbformat_minor": 0,
  "metadata": {
    "colab": {
      "provenance": []
    },
    "kernelspec": {
      "name": "python3",
      "display_name": "Python 3"
    },
    "language_info": {
      "name": "python"
    }
  },
  "cells": [
    {
      "cell_type": "code",
      "execution_count": 1,
      "metadata": {
        "colab": {
          "base_uri": "https://localhost:8080/"
        },
        "id": "nv9b8uq3qmad",
        "outputId": "ed7b7a08-e343-442d-9753-fd162edfab11"
      },
      "outputs": [
        {
          "output_type": "stream",
          "name": "stdout",
          "text": [
            "Mounted at /content/drive\n"
          ]
        }
      ],
      "source": [
        "from google.colab import drive\n",
        "drive.mount('/content/drive')\n"
      ]
    },
    {
      "cell_type": "code",
      "source": [
        "import scipy.io\n",
        "from pprint import pprint\n",
        "import json"
      ],
      "metadata": {
        "id": "LigLezyLq0Pb"
      },
      "execution_count": 2,
      "outputs": []
    },
    {
      "cell_type": "code",
      "source": [
        "mat_file_path = '/content/drive/MyDrive/projet-sem/12k Drive End Bearing Fault Data/IR007_3.mat'\n",
        "\n",
        "# Load the MATLAB file\n",
        "mat_contents = scipy.io.loadmat(mat_file_path)\n",
        "\n",
        "# Pretty-print the contents\n",
        "print(\"Contents of the MATLAB file:\")\n",
        "pprint(mat_contents)"
      ],
      "metadata": {
        "colab": {
          "base_uri": "https://localhost:8080/"
        },
        "id": "S6VYRQMxq2n6",
        "outputId": "99f3fdeb-e8a0-43c7-8cdd-d1a29d813317"
      },
      "execution_count": 22,
      "outputs": [
        {
          "output_type": "stream",
          "name": "stdout",
          "text": [
            "Contents of the MATLAB file:\n",
            "{'X108RPM': array([[1721]], dtype=uint16),\n",
            " 'X108_BA_time': array([[ 0.07741674],\n",
            "       [-0.00241424],\n",
            "       [-0.06212653],\n",
            "       ...,\n",
            "       [ 0.22545009],\n",
            "       [ 0.2301981 ],\n",
            "       [ 0.16424902]]),\n",
            " 'X108_DE_time': array([[ 0.22269856],\n",
            "       [ 0.09323776],\n",
            "       [-0.14651649],\n",
            "       ...,\n",
            "       [-0.36125573],\n",
            "       [ 0.31138814],\n",
            "       [ 0.17055689]]),\n",
            " 'X108_FE_time': array([[-0.09738545],\n",
            "       [-0.1808    ],\n",
            "       [-0.23360182],\n",
            "       ...,\n",
            "       [ 0.12265636],\n",
            "       [ 0.02177818],\n",
            "       [-0.00143818]]),\n",
            " '__globals__': [],\n",
            " '__header__': b'MATLAB 5.0 MAT-file, Platform: PCWIN, Created on: Mon Jan 31'\n",
            "               b' 15:17:29 2000',\n",
            " '__version__': '1.0'}\n"
          ]
        }
      ]
    },
    {
      "cell_type": "code",
      "source": [
        "import numpy as np\n",
        "\n",
        "# Access the 'X146_BA_time' variable\n",
        "ba_time_data = mat_contents['X108_BA_time']\n",
        "de_time_data = mat_contents['X108_DE_time']\n",
        "fe_time_data = mat_contents['X108_FE_time']\n",
        "\n",
        "# Flatten the 2D array into a 1D numerical series\n",
        "ba_time_series = np.ravel(ba_time_data)\n",
        "fe_time_series = np.ravel(fe_time_data)\n",
        "de_time_series = np.ravel(de_time_data)\n",
        "\n",
        "# Print the numerical series\n",
        "print(\"X108_BA_time series:\")\n",
        "print(ba_time_series)\n",
        "print(\"X108_fe_time series:\")\n",
        "print(fe_time_series)\n",
        "print(\"X108_de_time series:\")\n",
        "print(de_time_series)"
      ],
      "metadata": {
        "colab": {
          "base_uri": "https://localhost:8080/"
        },
        "id": "nG5bv5wrq-Zt",
        "outputId": "a40b488a-2b19-442d-c047-96dae270d205"
      },
      "execution_count": 24,
      "outputs": [
        {
          "output_type": "stream",
          "name": "stdout",
          "text": [
            "X108_BA_time series:\n",
            "[ 0.07741674 -0.00241424 -0.06212653 ...  0.22545009  0.2301981\n",
            "  0.16424902]\n",
            "X108_fe_time series:\n",
            "[-0.09738545 -0.1808     -0.23360182 ...  0.12265636  0.02177818\n",
            " -0.00143818]\n",
            "X108_de_time series:\n",
            "[ 0.22269856  0.09323776 -0.14651649 ... -0.36125573  0.31138814\n",
            "  0.17055689]\n"
          ]
        }
      ]
    },
    {
      "cell_type": "code",
      "source": [
        "import numpy as np\n",
        "import pandas as pd\n",
        "\n",
        "# Access the 'X146_BA_time', 'X105_FE_time', and 'X105_DE_time' variables\n",
        "ba_time_data = mat_contents['X108_BA_time']\n",
        "de_time_data = mat_contents['X108_DE_time']\n",
        "fe_time_data = mat_contents['X108_FE_time']\n",
        "\n",
        "# Flatten the 2D arrays into 1D numerical series\n",
        "ba_time_series = np.ravel(ba_time_data)\n",
        "fe_time_series = np.ravel(fe_time_data)\n",
        "de_time_series = np.ravel(de_time_data)\n",
        "\n",
        "# Create a DataFrame with three columns\n",
        "df = pd.DataFrame({\n",
        "    'X108_BA_time': ba_time_series,\n",
        "    'X108_FE_time': fe_time_series,\n",
        "    'X108_DE_time': de_time_series\n",
        "})\n",
        "\n",
        "# Print the DataFrame\n",
        "print(\"DataFrame:\")\n",
        "print(df)\n",
        "\n",
        "# Save the DataFrame to a CSV file\n",
        "df.to_csv('IR007_3.csv', index=False)\n"
      ],
      "metadata": {
        "colab": {
          "base_uri": "https://localhost:8080/"
        },
        "id": "UD1uTNm_rg90",
        "outputId": "09103309-1f79-4e9d-95ee-d4b141b95282"
      },
      "execution_count": 25,
      "outputs": [
        {
          "output_type": "stream",
          "name": "stdout",
          "text": [
            "DataFrame:\n",
            "        X108_BA_time  X108_FE_time  X108_DE_time\n",
            "0           0.077417     -0.097385      0.222699\n",
            "1          -0.002414     -0.180800      0.093238\n",
            "2          -0.062127     -0.233602     -0.146516\n",
            "3          -0.079429     -0.102111      0.177217\n",
            "4          -0.029212     -0.033284      0.248526\n",
            "...              ...           ...           ...\n",
            "122912     -0.059149      0.080949      0.839790\n",
            "122913      0.049532      0.030613      0.165521\n",
            "122914      0.225450      0.122656     -0.361256\n",
            "122915      0.230198      0.021778      0.311388\n",
            "122916      0.164249     -0.001438      0.170557\n",
            "\n",
            "[122917 rows x 3 columns]\n"
          ]
        }
      ]
    }
  ]
}